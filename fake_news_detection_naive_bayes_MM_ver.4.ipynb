{
 "cells": [
  {
   "cell_type": "markdown",
   "id": "3010c59d",
   "metadata": {},
   "source": [
    "# Fake News Detection – Naive Bayes Model\n",
    "\n",
    "Ten projekt pokazuje krok po kroku:\n",
    "1. Wczytanie danych (Fake + Real news)\n",
    "2. Czyszczenie tekstu\n",
    "3. Wektoryzację TF-IDF\n",
    "4. Trenowanie modelu Naive Bayes\n",
    "5. Analizę wyników i wizualizację macierzy pomyłek\n",
    "6. Wizualizacje tekstu\n",
    "7. Zastosowanie modelu w nowym tekście"
   ]
  },
  {
   "cell_type": "code",
   "execution_count": null,
   "id": "271ea453",
   "metadata": {
    "ExecuteTime": {
     "end_time": "2025-04-25T21:23:09.777078Z",
     "start_time": "2025-04-25T21:23:07.898551Z"
    }
   },
   "outputs": [],
   "source": [
    "!pip install -r requirements.txt\n"
   ]
  },
  {
   "cell_type": "code",
   "execution_count": null,
   "id": "23411328965359e",
   "metadata": {
    "ExecuteTime": {
     "end_time": "2025-04-25T21:23:41.730686Z",
     "start_time": "2025-04-25T21:23:41.720485Z"
    }
   },
   "outputs": [],
   "source": [
    "python.exe -m pip install --upgrade pip"
   ]
  },
  {
   "cell_type": "code",
   "execution_count": null,
   "id": "b1a0ec4923cf8e6b",
   "metadata": {
    "ExecuteTime": {
     "end_time": "2025-04-25T21:25:01.263844Z",
     "start_time": "2025-04-25T21:24:57.168716Z"
    }
   },
   "outputs": [],
   "source": [
    "!pip install --upgrade pip\n"
   ]
  },
  {
   "cell_type": "code",
   "execution_count": null,
   "id": "258b1e6f",
   "metadata": {
    "ExecuteTime": {
     "end_time": "2025-04-25T21:22:21.533621Z",
     "start_time": "2025-04-25T21:22:20.196902Z"
    }
   },
   "outputs": [],
   "source": [
    "\n",
    "import pandas as pd\n",
    "\n",
    "# Wczytaj dane\n",
    "fake_df = pd.read_csv(\"Fake.csv\")\n",
    "real_df = pd.read_csv(\"True.csv\")\n",
    "\n",
    "# Dodaj etykiety\n",
    "fake_df[\"label\"] = 0  # fake\n",
    "real_df[\"label\"] = 1  # real\n",
    "\n",
    "# Połącz dane i wymieszaj\n",
    "df = pd.concat([fake_df, real_df])\n",
    "df = df.sample(frac=1, random_state=42).reset_index(drop=True)\n",
    "\n",
    "# Sprawdzenie\n",
    "print(df.head())\n",
    "print(\"\\nRozkład klas:\")\n",
    "print(df[\"label\"].value_counts())\n"
   ]
  },
  {
   "cell_type": "code",
   "execution_count": null,
   "id": "49ad544e",
   "metadata": {},
   "outputs": [],
   "source": [
    "\n",
    "import re\n",
    "import nltk\n",
    "from nltk.corpus import stopwords\n",
    "\n",
    "nltk.download('stopwords')\n",
    "stop_words = set(stopwords.words('english'))\n",
    "\n",
    "def clean_text(text):\n",
    "    text = text.lower()\n",
    "    text = re.sub(r'\\W', ' ', text)\n",
    "    text = re.sub(r'\\s+', ' ', text)\n",
    "    text = ' '.join([word for word in text.split() if word not in stop_words])\n",
    "    return text\n",
    "\n",
    "df[\"clean_text\"] = df[\"text\"].apply(clean_text)\n"
   ]
  },
  {
   "cell_type": "code",
   "execution_count": null,
   "id": "aba0e0aa",
   "metadata": {},
   "outputs": [],
   "source": [
    "\n",
    "from sklearn.model_selection import train_test_split\n",
    "\n",
    "X = df[\"clean_text\"]\n",
    "y = df[\"label\"]\n",
    "\n",
    "X_train, X_test, y_train, y_test = train_test_split(\n",
    "    X, y, test_size=0.2, random_state=42, stratify=y\n",
    ")\n",
    "\n",
    "print(f\"Rozmiar zbioru treningowego: {len(X_train)}\")\n",
    "print(f\"Rozmiar zbioru testowego: {len(X_test)}\")\n"
   ]
  },
  {
   "cell_type": "code",
   "execution_count": null,
   "id": "b149628a",
   "metadata": {},
   "outputs": [],
   "source": [
    "\n",
    "from sklearn.feature_extraction.text import TfidfVectorizer\n",
    "\n",
    "tfidf = TfidfVectorizer(max_features=5000)\n",
    "X_train_tfidf = tfidf.fit_transform(X_train)\n",
    "X_test_tfidf = tfidf.transform(X_test)\n",
    "\n",
    "print(\"Wektoryzacja zakończona.\")\n",
    "print(f\"Kształt X_train: {X_train_tfidf.shape}\")\n",
    "print(f\"Kształt X_test: {X_test_tfidf.shape}\")\n"
   ]
  },
  {
   "cell_type": "code",
   "execution_count": null,
   "id": "0504ff07",
   "metadata": {},
   "outputs": [],
   "source": [
    "\n",
    "from sklearn.naive_bayes import MultinomialNB\n",
    "from sklearn.metrics import classification_report\n",
    "\n",
    "nb_model = MultinomialNB()\n",
    "nb_model.fit(X_train_tfidf, y_train)\n",
    "y_pred_nb = nb_model.predict(X_test_tfidf)\n",
    "\n",
    "print(\"Wyniki dla Naive Bayes:\")\n",
    "print(classification_report(y_test, y_pred_nb, target_names=[\"Fake\", \"Real\"]))\n"
   ]
  },
  {
   "cell_type": "code",
   "execution_count": null,
   "id": "83c097f2",
   "metadata": {},
   "outputs": [],
   "source": [
    "\n",
    "import matplotlib.pyplot as plt\n",
    "import seaborn as sns\n",
    "from sklearn.metrics import confusion_matrix\n",
    "\n",
    "cm = confusion_matrix(y_test, y_pred_nb)\n",
    "\n",
    "plt.figure(figsize=(6, 4))\n",
    "sns.heatmap(cm, annot=True, fmt='d', cmap='Blues',\n",
    "            xticklabels=['Fake', 'Real'],\n",
    "            yticklabels=['Fake', 'Real'])\n",
    "\n",
    "plt.title(\"Macierz pomyłek – Naive Bayes\")\n",
    "plt.xlabel(\"Przewidywana etykieta\")\n",
    "plt.ylabel(\"Rzeczywista etykieta\")\n",
    "plt.tight_layout()\n",
    "plt.show()\n"
   ]
  },
  {
   "cell_type": "code",
   "execution_count": null,
   "id": "6b290f3e",
   "metadata": {},
   "outputs": [],
   "source": [
    "\n",
    "from wordcloud import WordCloud\n",
    "\n",
    "# Chmura słów dla Fake news\n",
    "fake_text = \" \".join(df[df['label'] == 0]['clean_text'])\n",
    "wordcloud_fake = WordCloud(width=800, height=400, background_color='white').generate(fake_text)\n",
    "\n",
    "plt.figure(figsize=(10, 5))\n",
    "plt.imshow(wordcloud_fake, interpolation='bilinear')\n",
    "plt.axis(\"off\")\n",
    "plt.title(\"WordCloud – Fake News\")\n",
    "plt.show()\n",
    "\n",
    "# Chmura słów dla Real news\n",
    "real_text = \" \".join(df[df['label'] == 1]['clean_text'])\n",
    "wordcloud_real = WordCloud(width=800, height=400, background_color='white').generate(real_text)\n",
    "\n",
    "plt.figure(figsize=(10, 5))\n",
    "plt.imshow(wordcloud_real, interpolation='bilinear')\n",
    "plt.axis(\"off\")\n",
    "plt.title(\"WordCloud – Real News\")\n",
    "plt.show()\n"
   ]
  },
  {
   "cell_type": "code",
   "execution_count": null,
   "id": "8cb8d83e",
   "metadata": {},
   "outputs": [],
   "source": [
    "\n",
    "# Funkcja predykcji nowego tekstu\n",
    "def predict_article(text):\n",
    "    cleaned = clean_text(text)\n",
    "    vector = tfidf.transform([cleaned])\n",
    "    prediction = nb_model.predict(vector)\n",
    "    return \"REAL\" if prediction[0] == 1 else \"FAKE\"\n",
    "\n",
    "# Przykład użycia\n",
    "sample_text = \"Scientists have discovered a new planet that could support life.\"\n",
    "print(\"Wynik predykcji:\", predict_article(sample_text))\n"
   ]
  }
 ],
 "metadata": {
  "kernelspec": {
   "display_name": "Python 3",
   "language": "python",
   "name": "python3"
  },
  "language_info": {
   "codemirror_mode": {
    "name": "ipython",
    "version": 3
   },
   "file_extension": ".py",
   "mimetype": "text/x-python",
   "name": "python",
   "nbconvert_exporter": "python",
   "pygments_lexer": "ipython3",
   "version": "3.12.6"
  }
 },
 "nbformat": 4,
 "nbformat_minor": 5
}
